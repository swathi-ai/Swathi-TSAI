{
  "nbformat": 4,
  "nbformat_minor": 0,
  "metadata": {
    "colab": {
      "name": "EVA7_PyTorch101.ipynb",
      "provenance": [],
      "collapsed_sections": []
    },
    "kernelspec": {
      "name": "python3",
      "display_name": "Python 3"
    }
  },
  "cells": [
    {
      "cell_type": "markdown",
      "metadata": {
        "id": "_kYM3ylzYo1Q"
      },
      "source": [
        "![PyTorch](https://devblogs.nvidia.com/wp-content/uploads/2017/04/pytorch-logo-dark.png)\n",
        "\n",
        "An open source machine learning framework that accelerates the path from research prototyping to production deployment.\n",
        "\n"
      ]
    },
    {
      "cell_type": "markdown",
      "metadata": {
        "id": "WcVqSTrWY6oz"
      },
      "source": [
        "# Tensor - Pytorch's core data structure\n",
        "\n",
        "In Python we can create lists, lists of lists, lists of lists and so on. In NumPy there is a `numpy.ndarray` which represents `n`- dimensional array. In math there is a special name for the generalization of vectors and matrices to a higher dimensional space - a tensor\n",
        "\n",
        "Tensor is an entity with a defined number of dimensions called an order (rank). \n",
        "\n",
        "**Scalar** can be considered as a rank-0-tensor. \n",
        "\n",
        "**Vector** can be introduced as a rank-1-tensor. \n",
        "\n",
        "**Matrices** can be considered as a rank-2-tensor.\n",
        "\n",
        "# Tensor Basics\n",
        "\n",
        "Let's import the torch module first."
      ]
    },
    {
      "cell_type": "code",
      "metadata": {
        "id": "e-oFVL2tYYqp"
      },
      "source": [
        "import numpy as np\n",
        "import torch"
      ],
      "execution_count": 1,
      "outputs": []
    },
    {
      "cell_type": "markdown",
      "metadata": {
        "id": "uGxuR5IEaFJa"
      },
      "source": [
        "## Tensor Creation\n",
        "Let's view examples of matrices and tensors generation\n",
        "\n",
        "2-dimensional (rank-2) tensor of zeros:"
      ]
    },
    {
      "cell_type": "code",
      "metadata": {
        "id": "897JQc25aD3E",
        "colab": {
          "base_uri": "https://localhost:8080/"
        },
        "outputId": "54e9f10c-7e2c-4031-911f-418a58f39652"
      },
      "source": [
        "torch.zeros(3, 4)"
      ],
      "execution_count": 2,
      "outputs": [
        {
          "output_type": "execute_result",
          "data": {
            "text/plain": [
              "tensor([[0., 0., 0., 0.],\n",
              "        [0., 0., 0., 0.],\n",
              "        [0., 0., 0., 0.]])"
            ]
          },
          "metadata": {},
          "execution_count": 2
        }
      ]
    },
    {
      "cell_type": "markdown",
      "metadata": {
        "id": "pujmpEBhaPRA"
      },
      "source": [
        "Random rank-3 tensor:\n",
        "_read the print below and convince yourself how this is a rank-3-tensor and learn what those 2, 3, 4 values are there for_"
      ]
    },
    {
      "cell_type": "code",
      "metadata": {
        "id": "mBrznTNhaOL7",
        "colab": {
          "base_uri": "https://localhost:8080/"
        },
        "outputId": "db1c868b-8557-43df-ebc2-1da218c9731c"
      },
      "source": [
        "torch.rand(2, 3, 4)"
      ],
      "execution_count": 3,
      "outputs": [
        {
          "output_type": "execute_result",
          "data": {
            "text/plain": [
              "tensor([[[0.7242, 0.7810, 0.1547, 0.1011],\n",
              "         [0.1424, 0.8001, 0.1917, 0.8177],\n",
              "         [0.3667, 0.7805, 0.3773, 0.7890]],\n",
              "\n",
              "        [[0.3138, 0.3709, 0.3277, 0.3188],\n",
              "         [0.2190, 0.2389, 0.6367, 0.2794],\n",
              "         [0.6030, 0.0061, 0.6169, 0.4912]]])"
            ]
          },
          "metadata": {},
          "execution_count": 3
        }
      ]
    },
    {
      "cell_type": "markdown",
      "metadata": {
        "id": "kO4fIr15asdi"
      },
      "source": [
        "I am hoping you have noticed 4-elements in a row, 3 rows making one block and there are 2 blocks. \n",
        "\n",
        "Random rank-4-tensor:"
      ]
    },
    {
      "cell_type": "code",
      "metadata": {
        "id": "KiCLvMGCaVZ3",
        "colab": {
          "base_uri": "https://localhost:8080/"
        },
        "outputId": "5411ccbb-902d-4fee-ae3b-c43ad47d2eb3"
      },
      "source": [
        "torch.rand(2, 2, 2, 3)"
      ],
      "execution_count": 5,
      "outputs": [
        {
          "output_type": "execute_result",
          "data": {
            "text/plain": [
              "tensor([[[[0.2899, 0.2200, 0.4720],\n",
              "          [0.1207, 0.9617, 0.3508]],\n",
              "\n",
              "         [[0.1222, 0.4911, 0.1896],\n",
              "          [0.8192, 0.0323, 0.0279]]],\n",
              "\n",
              "\n",
              "        [[[0.2350, 0.2610, 0.5160],\n",
              "          [0.2707, 0.1894, 0.9351]],\n",
              "\n",
              "         [[0.6451, 0.9187, 0.0785],\n",
              "          [0.9397, 0.4043, 0.3330]]]])"
            ]
          },
          "metadata": {},
          "execution_count": 5
        }
      ]
    },
    {
      "cell_type": "markdown",
      "metadata": {
        "id": "lF6VL68s3AMV"
      },
      "source": [
        "## Question 1:\n",
        "\n",
        "How many dimensions are there in a tensor defined as below?"
      ]
    },
    {
      "cell_type": "code",
      "metadata": {
        "id": "8IbXcI3x3Ibt",
        "colab": {
          "base_uri": "https://localhost:8080/"
        },
        "outputId": "a8012ca5-7242-4719-8c7f-df2093ab0b71"
      },
      "source": [
        "torch.rand(1, 1, 1, 1)\n",
        "#This tensor has only one dimension"
      ],
      "execution_count": 15,
      "outputs": [
        {
          "output_type": "execute_result",
          "data": {
            "text/plain": [
              "tensor([[[[0.9840]]]])"
            ]
          },
          "metadata": {},
          "execution_count": 15
        }
      ]
    },
    {
      "cell_type": "markdown",
      "metadata": {
        "id": "qmgpqssRa9jF"
      },
      "source": [
        ".\n",
        "\n",
        "---\n",
        "\n",
        "\n",
        "There are many more ways to create tensor using some restrictions on values it should contatn - for the full reference, please follow the [official docs](https://pytorch.org/docs/stable/torch.html#creation-ops). \n",
        "\n",
        "\n",
        ".\n",
        "---\n",
        "\n",
        "\n",
        "# Python / NumPy / Pytorch interoperability\n",
        "\n",
        "You can create tensors from python as well as numpy arrays. You can also convert torch tensors to numpy arrays. So, the interoperability between torch and numpy is pretty good. "
      ]
    },
    {
      "cell_type": "code",
      "metadata": {
        "id": "ipgpeWPfa6gE",
        "colab": {
          "base_uri": "https://localhost:8080/"
        },
        "outputId": "560068df-818e-47c2-b088-81e4702013cc"
      },
      "source": [
        "# Simple Python List\n",
        "python_list = [1, 2]\n",
        "\n",
        "# Create a numpy array from python list\n",
        "numpy_array = np.array(python_list)\n",
        "\n",
        "# Create a torch Tensor from python list\n",
        "tensor_from_list = torch.tensor(python_list)\n",
        "\n",
        "# Create a torch Tensor from Numpy array\n",
        "tensor_from_array = torch.tensor(numpy_array)\n",
        "\n",
        "# Another way to create a torch Tensor from Numpy array (share same storage)\n",
        "tensor_from_array_v2 = torch.from_numpy(numpy_array)\n",
        "\n",
        "# Convert torch tensor to numpy array\n",
        "array_from_tensor = tensor_from_array.numpy()\n",
        "\n",
        "print('List:   ', python_list)\n",
        "print('Array:  ', numpy_array)\n",
        "print('Tensor: ', tensor_from_list)\n",
        "print('Tensor: ', tensor_from_array)\n",
        "print('Tensor: ', tensor_from_array_v2)\n",
        "print('Array:  ', array_from_tensor)"
      ],
      "execution_count": 16,
      "outputs": [
        {
          "output_type": "stream",
          "name": "stdout",
          "text": [
            "List:    [1, 2]\n",
            "Array:   [1 2]\n",
            "Tensor:  tensor([1, 2])\n",
            "Tensor:  tensor([1, 2])\n",
            "Tensor:  tensor([1, 2])\n",
            "Array:   [1 2]\n"
          ]
        }
      ]
    },
    {
      "cell_type": "markdown",
      "metadata": {
        "id": "X_x-86B8gqik"
      },
      "source": [
        "**Difference between** `torch.Tensor` **and** `torch.from_numpy`\n",
        "\n",
        "Pytorch aims to be an effective library for computations. What does it mean? It means that pytorch avoids memory copying if it can. "
      ]
    },
    {
      "cell_type": "code",
      "metadata": {
        "id": "eHCKDGpygn_d",
        "colab": {
          "base_uri": "https://localhost:8080/"
        },
        "outputId": "d4232869-313d-4477-f05e-07ed53524a53"
      },
      "source": [
        "numpy_array[0] = 10\n",
        "\n",
        "print('Array:  ', numpy_array)\n",
        "print('Tensor: ', tensor_from_array)\n",
        "print('Tensor: ', tensor_from_array_v2)\n",
        "#from_numpy() automatically inherits input array dtype and shares same storage as array.\n",
        "#torch.Tensor is an alias for torch.FloatTensor so irrespective of input data type, it treates as float"
      ],
      "execution_count": 17,
      "outputs": [
        {
          "output_type": "stream",
          "name": "stdout",
          "text": [
            "Array:   [10  2]\n",
            "Tensor:  tensor([1, 2])\n",
            "Tensor:  tensor([10,  2])\n"
          ]
        }
      ]
    },
    {
      "cell_type": "markdown",
      "metadata": {
        "id": "-CKtdNRM3SMp"
      },
      "source": [
        "## Question 2:\n",
        "\n",
        "Assume that we moved our complete (cats vs dogs) image dataset to numpy arrays. Then we use torch.from_numpy to convert these images to tensor. Then we apply a specific data augmentation strategy called \"CutOut\" which blocks a portion of the image directly on these tensors. What will happen to the accuracy of a model trained on this strategy compared to the one without this strategy? CutOut strategy is shown below: \n",
        "\n",
        "![CutOut](https://encrypted-tbn0.gstatic.com/images?q=tbn%3AANd9GcSnSyN835AmtQPKQbPjDHX-FmshNilbtexX95cRGQPwl56QCGDn)\n",
        "\n",
        "## Question 3:\n",
        "Why do you think we are observing this behavior?\n",
        "\n",
        "\n",
        "\n",
        "---\n",
        "\n",
        "\n"
      ]
    },
    {
      "cell_type": "markdown",
      "metadata": {
        "id": "rd3JXbLU_Ac5"
      },
      "source": [
        "## **Answer to Question 2:** When we apply 'CutOut' technique on tensors that came as result of torch.from_numpy, original images also get changed as both(image array and tensor) share the same storage. when these images are given to model, model is forced to learn the features and generalizes well. 'Cutout' augmentation technique is like dropout technique and it improves the model accuracy generalizability. With out this 'Cutout' technique, model may get less accuarcy. "
      ]
    },
    {
      "cell_type": "markdown",
      "metadata": {
        "id": "dZq7O-aihSOA"
      },
      "source": [
        "We have two different ways to create tensor from its NumPy counterpart - one copies memory and another one shares the same underlying storage. It works in the opposite way:"
      ]
    },
    {
      "cell_type": "code",
      "metadata": {
        "id": "TNFOwV8EhPwQ",
        "colab": {
          "base_uri": "https://localhost:8080/"
        },
        "outputId": "ea95d62b-1a5b-4e6d-bd8b-f5c1aa429ed0"
      },
      "source": [
        "array_from_tensor = tensor_from_array.numpy()\n",
        "print('Tensor: ', tensor_from_array)\n",
        "print('Array: ', array_from_tensor)\n",
        "\n",
        "tensor_from_array[0] = 11\n",
        "print('Tensor: ', tensor_from_array)\n",
        "print('Array: ', array_from_tensor)"
      ],
      "execution_count": 21,
      "outputs": [
        {
          "output_type": "stream",
          "name": "stdout",
          "text": [
            "Tensor:  tensor([1, 2])\n",
            "Array:  [1 2]\n",
            "Tensor:  tensor([11,  2])\n",
            "Array:  [11  2]\n"
          ]
        }
      ]
    },
    {
      "cell_type": "markdown",
      "metadata": {
        "id": "xhtWbvS7D4DK"
      },
      "source": [
        "# This is happening because, if possible the array and tensor share the underlying memory representation. However, sharing the underlying representation isn't always possible since the tensor may be hosted in GPU memory while NumPy arrays are always backed by host memory, and the conversion involves a copy from GPU to host memory.\n"
      ]
    },
    {
      "cell_type": "markdown",
      "metadata": {
        "id": "UM9ytbvKhtCw"
      },
      "source": [
        "## Data types\n",
        "\n",
        "The basic data type of all Deep Learning-related operations is float, but sometimes you may need something else. Pytorch support different number types for its tensors the same way NumPy does it - by specifying the data type on tensor creation or via casting. Ths full list of supported data types can be found [here](https://pytorch.org/docs/stable/tensors.html). "
      ]
    },
    {
      "cell_type": "code",
      "metadata": {
        "id": "Bd6WkzJ4hpYi",
        "colab": {
          "base_uri": "https://localhost:8080/"
        },
        "outputId": "d3c3d0fb-9557-47ca-a890-0f34edcddb15"
      },
      "source": [
        "tensor = torch.zeros(2, 2)\n",
        "print('Tensor with default type: ', tensor)\n",
        "tensor = torch.zeros(2, 2, dtype=torch.float16)\n",
        "print('Tensor with 16-bit float: ', tensor)\n",
        "tensor = torch.zeros(2, 2, dtype=torch.int16)\n",
        "print('Tensor with integers: ', tensor)\n",
        "tensor = torch.zeros(2, 2, dtype=torch.bool)\n",
        "print('Tensor with boolean data: ', tensor)"
      ],
      "execution_count": 20,
      "outputs": [
        {
          "output_type": "stream",
          "name": "stdout",
          "text": [
            "Tensor with default type:  tensor([[0., 0.],\n",
            "        [0., 0.]])\n",
            "Tensor with 16-bit float:  tensor([[0., 0.],\n",
            "        [0., 0.]], dtype=torch.float16)\n",
            "Tensor with integers:  tensor([[0, 0],\n",
            "        [0, 0]], dtype=torch.int16)\n",
            "Tensor with boolean data:  tensor([[False, False],\n",
            "        [False, False]])\n"
          ]
        }
      ]
    },
    {
      "cell_type": "markdown",
      "metadata": {
        "id": "a9F4Dkdr40TE"
      },
      "source": [
        "\n",
        "\n",
        "---\n",
        "\n",
        "\n",
        "## Question 4:\n",
        "We saw above that some times numpy and tensors share same storage and changing one changes the other. \n",
        "If we define a rank-2-tensor with ones (dtype of f16), and then convert it into a numpy data type using tensor.numpy() and store it in a variable called \"num\", and then we perform this operation `num = num * 0.5`, will the original tensor have 1.0s or 0.5s as its element values? \n"
      ]
    },
    {
      "cell_type": "markdown",
      "metadata": {
        "id": "GRZ5TKTEIW0H"
      },
      "source": [
        "# The original tensor will have 1.0s."
      ]
    },
    {
      "cell_type": "code",
      "metadata": {
        "colab": {
          "base_uri": "https://localhost:8080/"
        },
        "id": "PAiv3lFDHKRw",
        "outputId": "3063e5cd-bd65-422d-e774-6e5f6bcb8b29"
      },
      "source": [
        "tensor_1 = torch.ones(3, 4, dtype=torch.float16)\n",
        "tensor_1"
      ],
      "execution_count": 39,
      "outputs": [
        {
          "output_type": "execute_result",
          "data": {
            "text/plain": [
              "tensor([[1., 1., 1., 1.],\n",
              "        [1., 1., 1., 1.],\n",
              "        [1., 1., 1., 1.]], dtype=torch.float16)"
            ]
          },
          "metadata": {},
          "execution_count": 39
        }
      ]
    },
    {
      "cell_type": "code",
      "metadata": {
        "id": "TWkN5jrRHeiu"
      },
      "source": [
        "num = tensor_1.numpy()"
      ],
      "execution_count": 40,
      "outputs": []
    },
    {
      "cell_type": "code",
      "metadata": {
        "id": "m-d_GM9oHucw"
      },
      "source": [
        "num[:] = num * 0.5"
      ],
      "execution_count": 41,
      "outputs": []
    },
    {
      "cell_type": "code",
      "metadata": {
        "colab": {
          "base_uri": "https://localhost:8080/"
        },
        "id": "Yn7L6dGJH0Ez",
        "outputId": "03fbcad0-1f87-45c9-e06f-57432dbe7182"
      },
      "source": [
        "num"
      ],
      "execution_count": 42,
      "outputs": [
        {
          "output_type": "execute_result",
          "data": {
            "text/plain": [
              "array([[0.5, 0.5, 0.5, 0.5],\n",
              "       [0.5, 0.5, 0.5, 0.5],\n",
              "       [0.5, 0.5, 0.5, 0.5]], dtype=float16)"
            ]
          },
          "metadata": {},
          "execution_count": 42
        }
      ]
    },
    {
      "cell_type": "code",
      "metadata": {
        "colab": {
          "base_uri": "https://localhost:8080/"
        },
        "id": "vbiphG4HIC7k",
        "outputId": "92afab61-14a6-44a4-f3f9-2e5ccbb4b75a"
      },
      "source": [
        "tensor_1"
      ],
      "execution_count": 43,
      "outputs": [
        {
          "output_type": "execute_result",
          "data": {
            "text/plain": [
              "tensor([[0.5000, 0.5000, 0.5000, 0.5000],\n",
              "        [0.5000, 0.5000, 0.5000, 0.5000],\n",
              "        [0.5000, 0.5000, 0.5000, 0.5000]], dtype=torch.float16)"
            ]
          },
          "metadata": {},
          "execution_count": 43
        }
      ]
    },
    {
      "cell_type": "markdown",
      "metadata": {
        "id": "OiQt8Mmm51OE"
      },
      "source": [
        "\n",
        "\n",
        "---\n",
        "\n",
        "## Question 5: \n",
        "If the operation `num = num*5` is changed to `num[:] = num*5` will the original tensor have 1.0s or 0.5s as its element values? \n",
        "\n",
        "\n",
        "\n",
        "---\n",
        "\n"
      ]
    },
    {
      "cell_type": "markdown",
      "metadata": {
        "id": "X7heb4bjI3wf"
      },
      "source": [
        "# Original tensor have 0.5s as its element values"
      ]
    },
    {
      "cell_type": "markdown",
      "metadata": {
        "id": "vzh8UB8KiVmb"
      },
      "source": [
        "## Indexing\n",
        "\n",
        "Tensor provides access to its elements via the same `[]` operation as a regular python list or NumPy array. However, as you may recall from NumPy usage, the full power of math libraries is accessible only via vectorized operations, i.e. operations without explicit looping over all vector elements in python and using implicit optimized loops in C/C++/CUDA/Fortran/etc. available via special function calls. Pytorch employs the same paradigm and provides a wide range of vectorized operations. Let's take a look at some examples. \n",
        "\n",
        "Joining a list of tensors together with `torch.cat`"
      ]
    },
    {
      "cell_type": "code",
      "metadata": {
        "id": "GMaCDKPhiUAb",
        "colab": {
          "base_uri": "https://localhost:8080/"
        },
        "outputId": "dc7b256d-512e-45df-9a95-a10d546e24ce"
      },
      "source": [
        "a = torch.zeros(3, 2)\n",
        "b = torch.ones(3, 2)\n",
        "print(torch.cat((a, b), dim=0))"
      ],
      "execution_count": 44,
      "outputs": [
        {
          "output_type": "stream",
          "name": "stdout",
          "text": [
            "tensor([[0., 0.],\n",
            "        [0., 0.],\n",
            "        [0., 0.],\n",
            "        [1., 1.],\n",
            "        [1., 1.],\n",
            "        [1., 1.]])\n"
          ]
        }
      ]
    },
    {
      "cell_type": "code",
      "metadata": {
        "id": "BuKl25ptJam-"
      },
      "source": [
        "t1 = torch.cat((a, b), dim=0)\n",
        "t2 = torch.cat((a, b), dim=1)"
      ],
      "execution_count": 45,
      "outputs": []
    },
    {
      "cell_type": "code",
      "metadata": {
        "colab": {
          "base_uri": "https://localhost:8080/"
        },
        "id": "63ErB7s4JiLH",
        "outputId": "043d4332-99c8-4f08-d3f8-cfd0e77cc0a4"
      },
      "source": [
        "print(t1)\n",
        "print(np.transpose(t2))\n",
        "print(t2)"
      ],
      "execution_count": 59,
      "outputs": [
        {
          "output_type": "stream",
          "name": "stdout",
          "text": [
            "tensor([[0., 0.],\n",
            "        [0., 0.],\n",
            "        [0., 0.],\n",
            "        [1., 1.],\n",
            "        [1., 1.],\n",
            "        [1., 1.]])\n",
            "tensor([[0., 0., 0.],\n",
            "        [0., 0., 0.],\n",
            "        [1., 1., 1.],\n",
            "        [1., 1., 1.]])\n",
            "tensor([[0., 0., 1., 1.],\n",
            "        [0., 0., 1., 1.],\n",
            "        [0., 0., 1., 1.]])\n"
          ]
        }
      ]
    },
    {
      "cell_type": "markdown",
      "metadata": {
        "id": "5bj4aeE86zdH"
      },
      "source": [
        "\n",
        "\n",
        "---\n",
        "\n",
        "## Question 6: \n",
        "Is the transpose of concatenated a & b tensor on dimension 1, same as the contatenated tensor of a & b on dimension 0? \n",
        "\n",
        "\n",
        "\n",
        "---\n",
        "\n"
      ]
    },
    {
      "cell_type": "markdown",
      "metadata": {
        "id": "GPHcfmnVKNad"
      },
      "source": [
        "## No, they are not same."
      ]
    },
    {
      "cell_type": "markdown",
      "metadata": {
        "id": "0TXNne69j7LP"
      },
      "source": [
        "Indexing with another tenxor/array:"
      ]
    },
    {
      "cell_type": "code",
      "metadata": {
        "id": "KiE-Fsi4jVd6",
        "colab": {
          "base_uri": "https://localhost:8080/"
        },
        "outputId": "498f53e1-f664-4098-9c75-56df52dd900f"
      },
      "source": [
        "a = torch.arange(start=0, end=10)\n",
        "indices = np.arange(0, 10) > 5\n",
        "print(a)\n",
        "print(indices)\n",
        "print(a[indices])\n",
        "\n",
        "indices = torch.arange(start=0, end=10) %5\n",
        "print(indices)\n",
        "print(a[indices])"
      ],
      "execution_count": 53,
      "outputs": [
        {
          "output_type": "stream",
          "name": "stdout",
          "text": [
            "tensor([0, 1, 2, 3, 4, 5, 6, 7, 8, 9])\n",
            "[False False False False False False  True  True  True  True]\n",
            "tensor([6, 7, 8, 9])\n",
            "tensor([0, 1, 2, 3, 4, 0, 1, 2, 3, 4])\n",
            "tensor([0, 1, 2, 3, 4, 0, 1, 2, 3, 4])\n"
          ]
        }
      ]
    },
    {
      "cell_type": "markdown",
      "metadata": {
        "id": "LS4dnlu47WQu"
      },
      "source": [
        "\n",
        "\n",
        "---\n",
        "\n",
        "## Question 7:\n",
        "\n",
        "`a` is defined as `torch.arange(start=0, end=10)`. We will create `b` using the two operations as below. In both cases do we get the same value?\n",
        "\n",
        "\n",
        "1.   indices variable created by the modulo operation on arange between 0 and 10. Then a new varialble `b` is created from `a` using the last 5 elements of indices. \n",
        "2.   indices variable created by the modulo operation on arange betwenn 1 and 11. Then a new varialble `b` is created from `a` using the last 5 elements of indices. \n",
        "\n",
        "\n",
        "\n",
        "---\n",
        "\n",
        "\n"
      ]
    },
    {
      "cell_type": "markdown",
      "metadata": {
        "id": "eQ4ZCVsTk-KH"
      },
      "source": [
        "What should we do if we have, say, rank-2-tensor and want to select only some rows?"
      ]
    },
    {
      "cell_type": "code",
      "metadata": {
        "id": "_GtRpotjkt1q",
        "colab": {
          "base_uri": "https://localhost:8080/"
        },
        "outputId": "8be43bb6-766f-4992-cbc0-570b46d8ec3d"
      },
      "source": [
        "tensor = torch.rand((5, 3))\n",
        "rows = torch.tensor([0, 2])\n",
        "print(tensor)\n",
        "tensor[rows]"
      ],
      "execution_count": 54,
      "outputs": [
        {
          "output_type": "stream",
          "name": "stdout",
          "text": [
            "tensor([[0.2968, 0.8664, 0.3280],\n",
            "        [0.6646, 0.8860, 0.1553],\n",
            "        [0.3132, 0.2558, 0.1092],\n",
            "        [0.0333, 0.7034, 0.1020],\n",
            "        [0.1575, 0.8943, 0.3690]])\n"
          ]
        },
        {
          "output_type": "execute_result",
          "data": {
            "text/plain": [
              "tensor([[0.2968, 0.8664, 0.3280],\n",
              "        [0.3132, 0.2558, 0.1092]])"
            ]
          },
          "metadata": {},
          "execution_count": 54
        }
      ]
    },
    {
      "cell_type": "code",
      "metadata": {
        "colab": {
          "base_uri": "https://localhost:8080/"
        },
        "id": "LiHKTScXMRWB",
        "outputId": "60b5d963-6126-4e69-8af1-a9d9a43f6e40"
      },
      "source": [
        "#for only a particular row, we give that particular row number as index\n",
        "tensor[rows][0]\n",
        "# for printing only a range of rows we have to mention start row and end row + 1\n",
        "tensor[rows][0:2]"
      ],
      "execution_count": 57,
      "outputs": [
        {
          "output_type": "execute_result",
          "data": {
            "text/plain": [
              "tensor([[0.2968, 0.8664, 0.3280],\n",
              "        [0.3132, 0.2558, 0.1092]])"
            ]
          },
          "metadata": {},
          "execution_count": 57
        }
      ]
    },
    {
      "cell_type": "markdown",
      "metadata": {
        "id": "zIJnr_N2_Qaf"
      },
      "source": [
        "\n",
        "\n",
        "---\n",
        "\n",
        "## Question 8: \n",
        "\n",
        "Consider a tensor defined as `torch.rand((6, 5))`. Is the shape of the new tensor created by taking the 0th, 2nd and 4th row of the old tensor same as the shape of the a newer tensor created by taking the 0th, 2nd and 4th row of the old tensor after transposing it by operation `torch.transpose(tensor, 0, 1)` ?\n",
        "\n",
        "\n",
        "\n",
        "---\n",
        "\n",
        "\n"
      ]
    },
    {
      "cell_type": "markdown",
      "metadata": {
        "id": "naDzFMkslU0b"
      },
      "source": [
        "## Tensor Shapes\n",
        "\n",
        "Reshaping a tensor is a frequently used operation. We can change the shape of a tensor without the memory copying overhead. There are two methods for that: `reshape` and `view`. \n",
        "\n",
        "The difference is the following: \n",
        "\n",
        "\n",
        "*   view tries to return a tensor, and it shares the same memory with the original tensor. In case, if it cannot reuse the same memory due to [some reason](https://pytorch.org/docs/stable/tensors.html?highlight=view#torch.Tensor.view), it just fails. \n",
        "*   reshape always returns the tensor with the desired shape and tries to reuse the memory. If it cannot, it creates a copy\n",
        "\n",
        "Let's see with the help of an example:"
      ]
    },
    {
      "cell_type": "code",
      "metadata": {
        "id": "HClDkqLLlMJh",
        "colab": {
          "base_uri": "https://localhost:8080/",
          "height": 179
        },
        "outputId": "703bf39f-96e5-4990-90bb-1b59b96a01fb"
      },
      "source": [
        "tensor = torch.rand(2, 3, 4)\n",
        "print('Pointer to data: ', tensor.data_ptr())\n",
        "print('Shape: ', tensor.shape)\n",
        "\n",
        "reshaped = tensor.reshape(24)\n",
        "\n",
        "view = tensor.view(3, 2, 4)\n",
        "print('Reshaped tensor - pointer to data', reshaped.data_ptr())\n",
        "print('Reshaped tensor shape ', reshaped.shape)\n",
        "\n",
        "print('Viewed tensor - pointer to data', view.data_ptr())\n",
        "print('Viewed tensor shape ', view.shape)\n",
        "\n",
        "assert tensor.data_ptr() == view.data_ptr()\n",
        "\n",
        "assert np.all(np.equal(tensor.numpy().flat, reshaped.numpy().flat))\n",
        "\n",
        "print('Original stride: ', tensor.stride())\n",
        "print('Reshaped stride: ', reshaped.stride())\n",
        "print('Viewed stride: ', view.stride())"
      ],
      "execution_count": null,
      "outputs": [
        {
          "output_type": "stream",
          "text": [
            "Pointer to data:  54042240\n",
            "Shape:  torch.Size([2, 3, 4])\n",
            "Reshaped tensor - pointer to data 54042240\n",
            "Reshaped tensor shape  torch.Size([24])\n",
            "Viewed tensor - pointer to data 54042240\n",
            "Viewed tensor shape  torch.Size([3, 2, 4])\n",
            "Original stride:  (12, 4, 1)\n",
            "Reshaped stride:  (1,)\n",
            "Viewed stride:  (8, 4, 1)\n"
          ],
          "name": "stdout"
        }
      ]
    },
    {
      "cell_type": "markdown",
      "metadata": {
        "id": "jIN5jSppm4yC"
      },
      "source": [
        "The basic rule about reshaping the tensor is definitely that you cannot change the total number of elements in it, so the product of all tensor's dimensions should always be the same. It gives us the ability to avoid specifying one dimension when reshaping the tensor - Pytorch can calculate it for us:"
      ]
    },
    {
      "cell_type": "code",
      "metadata": {
        "id": "e3D19ERFmzOl",
        "colab": {
          "base_uri": "https://localhost:8080/",
          "height": 71
        },
        "outputId": "b49f6393-7a79-4da7-bb31-b5d8cd885e3a"
      },
      "source": [
        "print(tensor.reshape(3, 2, 4).shape)\n",
        "print(tensor.reshape(3, 2, -1).shape)\n",
        "print(tensor.reshape(3, -1, 4).shape)"
      ],
      "execution_count": null,
      "outputs": [
        {
          "output_type": "stream",
          "text": [
            "torch.Size([3, 2, 4])\n",
            "torch.Size([3, 2, 4])\n",
            "torch.Size([3, 2, 4])\n"
          ],
          "name": "stdout"
        }
      ]
    },
    {
      "cell_type": "markdown",
      "metadata": {
        "id": "ObgCQKUiETak"
      },
      "source": [
        "\n",
        "\n",
        "---\n",
        "\n",
        "\n",
        "## Question 9:\n",
        "\n",
        "Consider a tensor `a` created with [1, 2, 3] and [1, 2, 3] of size (2, 3) is reshaped with operation `.reshape(-1, 2)`. Also consider a tensor `b` created with [[2, 1]] and of size (1, 2), later operated with `view(2, -1)` operation. \n",
        "\n",
        "If we do a dot product of a and b (using `torch.mm`) and perform the sum of all the elements (using `torch.sum`) what do we get? (enter int value without any decimal point in the quiz)\n",
        "\n",
        "\n",
        "\n",
        "---\n",
        "\n"
      ]
    },
    {
      "cell_type": "markdown",
      "metadata": {
        "id": "mza7QPg3ndeV"
      },
      "source": [
        "**Alternative ways to view tensors** - `expand` or `expand_as`.\n",
        "\n",
        "\n",
        "\n",
        "*   `expand` - requires the desired shape as an input\n",
        "*   `expand_as` - uses the shape of another tensor\n",
        "\n",
        "These operations \"repeat\" tensor's values along the specified axes without actually copying the data. \n",
        "\n",
        "As the documentation says, expand:\n",
        "\n",
        "\n",
        "> returns a new view of the self tensor with singleton dimensions expanded to a larger size. Tensor can be also expanded to a larger number of dimensions, and the new ones will be appended at the front. For the new dimensions, the size cannot be set to -1. \n",
        "\n",
        "**Use case:**\n",
        "\n",
        "\n",
        "\n",
        "*   index multi-channel tensor with single-channel mask - imagine a color image with 3 channels (RGB) and binary mask for the area of interest on that image. We cannot index the image with this kind of mask directly since the dimensions are different, but we can use `expand_as` operation to create a view of the mask that has the same dimensions as the image we want to apply it to, but has not copied the data. "
      ]
    },
    {
      "cell_type": "code",
      "metadata": {
        "id": "iz33E-V7nPQT",
        "colab": {
          "base_uri": "https://localhost:8080/",
          "height": 596
        },
        "outputId": "8bcfc71f-b0bb-4c37-e5e0-5c4ffa38aacb"
      },
      "source": [
        "%matplotlib inline\n",
        "from matplotlib import pyplot as plt\n",
        "\n",
        "# Create a black image\n",
        "image = torch.zeros(size=(3, 256, 256), dtype=torch.int)\n",
        "\n",
        "# Leave the borders and make the rest of the image Green\n",
        "image[1, 18:256 - 18, 18:256 - 18] = 255\n",
        "\n",
        "# Create a mask of the same size\n",
        "mask = torch.zeros(size=(256, 256), dtype=torch.bool)\n",
        "\n",
        "# Assuming the green region in the original image is the Region of interest, change the mask to white for that area\n",
        "mask[18:256 - 18, 18:256 - 18] = 1\n",
        "\n",
        "# Create a view of the mask with the same dimensions as the original image\n",
        "mask_expanded = mask.expand_as(image)\n",
        "print(mask_expanded.shape)\n",
        "\n",
        "mask_np = mask_expanded.numpy().transpose(1, 2, 0) * 255\n",
        "image_np = image.numpy().transpose(1, 2, 0)\n",
        "\n",
        "fig, ax = plt.subplots(1, 2)\n",
        "ax[0].imshow(image_np)\n",
        "ax[1].imshow(mask_np)\n",
        "plt.show()\n",
        "\n",
        "image[0, mask] += 128\n",
        "fig, ax = plt.subplots(1, 2)\n",
        "ax[0].imshow(image_np)\n",
        "ax[1].imshow(mask_np)\n",
        "plt.show()\n",
        "\n",
        "image[mask_expanded] += 128\n",
        "image.clamp_(0, 255)\n",
        "fig, ax = plt.subplots(1, 2)\n",
        "ax[0].imshow(image_np)\n",
        "ax[1].imshow(mask_np)\n",
        "plt.show()"
      ],
      "execution_count": null,
      "outputs": [
        {
          "output_type": "stream",
          "text": [
            "torch.Size([3, 256, 256])\n"
          ],
          "name": "stdout"
        },
        {
          "output_type": "display_data",
          "data": {
            "image/png": "[encoded data removed]",
            "text/plain": [
              "<Figure size 432x288 with 2 Axes>"
            ]
          },
          "metadata": {
            "tags": []
          }
        },
        {
          "output_type": "display_data",
          "data": {
            "image/png": "[encoded data removed]",
            "text/plain": [
              "<Figure size 432x288 with 2 Axes>"
            ]
          },
          "metadata": {
            "tags": []
          }
        },
        {
          "output_type": "display_data",
          "data": {
            "image/png": "[encoded data removed]",
            "text/plain": [
              "<Figure size 432x288 with 2 Axes>"
            ]
          },
          "metadata": {
            "tags": []
          }
        }
      ]
    },
    {
      "cell_type": "markdown",
      "metadata": {
        "id": "jiXBx0k3ptOI"
      },
      "source": [
        "In the example above, one can also find a couple of useful tricks:\n",
        "\n",
        "\n",
        "*   `clamp` method and function is a Pytorch's analogue of NumPy's `clip` function\n",
        "*   many operations on tensors have in-place form, that does not return modified data, but change values in the tensor. The in-place version of the operation has trailing underscore according to Pytorch's naming convension - in the exmaple above it is `clamp_`\n",
        "*   tensors have the same indexing as Numpy's arrays - one can use `:` seperated range, negative indexes and so on.\n",
        "\n",
        "\n",
        ".\n",
        "\n",
        "\n",
        "---\n",
        "\n",
        "# Images and their representations\n",
        "\n",
        "Now, let's discuss images, their representations and how different Python librarties work with them. \n",
        "\n",
        "Probably, the most well-known library for image loading and simple processing is [Pillow](https://pillow.readthedocs.io/en/stable/). \n",
        "\n",
        "However, many people in deep learning area stick with OpenCV for image loading and processing with some usage of another libraries when it is justified by performance/functionality. This is because OpenCV is in general much faster than the other libraries. Here you can find a couple of benchmarks: \n",
        "\n",
        "*   https://www.kaggle.com/zfturbo/benchmark-2019-speed-of-image-reading\n",
        "*   https://github.com/albumentations-team/albumentations#benchmarking-results\n",
        "\n",
        "To sum up the benchmarks above, there are two most common image formats, PNG and JPEGs. If your data is in PNG format - use OpenCV to read it. If it is in JPEG - use libturbojpeg. For image processing, use OpenCV if possible. _We will be using PIL a lot along with these._\n",
        "\n",
        "As you will read the code from others, you may find out that some of them use Pillow/something else to read data. You should know, that color image representations in OpenCV and other libraries are different - OpenCV uses \"BGR\" channel order, while others use \"RGB\" one. \n",
        "\n",
        "To change \"BRG\" <-> \"RGB\" the only thing we need to do it to change channel order."
      ]
    },
    {
      "cell_type": "code",
      "metadata": {
        "id": "ZYv4sZMmpndu",
        "colab": {
          "base_uri": "https://localhost:8080/",
          "height": 235
        },
        "outputId": "6554afb4-dcac-48ce-a3ed-4e39bf6699e3"
      },
      "source": [
        "%matplotlib inline\n",
        "from matplotlib import pyplot as plt\n",
        "import cv2\n",
        "\n",
        "\n",
        "bgr_image = cv2.imread('dog.jpg') \n",
        "# remember to add your own image in case you run this block, if you want to use the same image, \n",
        "# download it from: https://encrypted-tbn0.gstatic.com/images?q=tbn%3AANd9GcRCA40ftnscVzfV8ft8e7vIzQXfXeZdtco8nknJrfCUW6INI40U\n",
        "rgb_image = bgr_image[:,:, ::-1]\n",
        "fig, ax = plt.subplots(1, 2)\n",
        "ax[0].imshow(bgr_image)\n",
        "ax[1].imshow(rgb_image)\n",
        "plt.show()"
      ],
      "execution_count": 66,
      "outputs": [
        {
          "output_type": "error",
          "ename": "TypeError",
          "evalue": "ignored",
          "traceback": [
            "\u001b[0;31m---------------------------------------------------------------------------\u001b[0m",
            "\u001b[0;31mTypeError\u001b[0m                                 Traceback (most recent call last)",
            "\u001b[0;32m<ipython-input-66-7a03d16cd086>\u001b[0m in \u001b[0;36m<module>\u001b[0;34m()\u001b[0m\n\u001b[1;32m      7\u001b[0m \u001b[0;31m# remember to add your own image in case you run this block, if you want to use the same image,\u001b[0m\u001b[0;34m\u001b[0m\u001b[0;34m\u001b[0m\u001b[0;34m\u001b[0m\u001b[0m\n\u001b[1;32m      8\u001b[0m \u001b[0;31m# download it from: https://encrypted-tbn0.gstatic.com/images?q=tbn%3AANd9GcRCA40ftnscVzfV8ft8e7vIzQXfXeZdtco8nknJrfCUW6INI40U\u001b[0m\u001b[0;34m\u001b[0m\u001b[0;34m\u001b[0m\u001b[0;34m\u001b[0m\u001b[0m\n\u001b[0;32m----> 9\u001b[0;31m \u001b[0mrgb_image\u001b[0m \u001b[0;34m=\u001b[0m \u001b[0mbgr_image\u001b[0m\u001b[0;34m[\u001b[0m\u001b[0;34m[\u001b[0m\u001b[0;36m2\u001b[0m\u001b[0;34m,\u001b[0m\u001b[0;36m1\u001b[0m\u001b[0;34m,\u001b[0m\u001b[0;36m0\u001b[0m\u001b[0;34m]\u001b[0m\u001b[0;34m]\u001b[0m\u001b[0;34m\u001b[0m\u001b[0;34m\u001b[0m\u001b[0m\n\u001b[0m\u001b[1;32m     10\u001b[0m \u001b[0mfig\u001b[0m\u001b[0;34m,\u001b[0m \u001b[0max\u001b[0m \u001b[0;34m=\u001b[0m \u001b[0mplt\u001b[0m\u001b[0;34m.\u001b[0m\u001b[0msubplots\u001b[0m\u001b[0;34m(\u001b[0m\u001b[0;36m1\u001b[0m\u001b[0;34m,\u001b[0m \u001b[0;36m2\u001b[0m\u001b[0;34m)\u001b[0m\u001b[0;34m\u001b[0m\u001b[0;34m\u001b[0m\u001b[0m\n\u001b[1;32m     11\u001b[0m \u001b[0max\u001b[0m\u001b[0;34m[\u001b[0m\u001b[0;36m0\u001b[0m\u001b[0;34m]\u001b[0m\u001b[0;34m.\u001b[0m\u001b[0mimshow\u001b[0m\u001b[0;34m(\u001b[0m\u001b[0mbgr_image\u001b[0m\u001b[0;34m)\u001b[0m\u001b[0;34m\u001b[0m\u001b[0;34m\u001b[0m\u001b[0m\n",
            "\u001b[0;31mTypeError\u001b[0m: 'NoneType' object is not subscriptable"
          ]
        }
      ]
    },
    {
      "cell_type": "markdown",
      "metadata": {
        "id": "yoi4TeNBGHle"
      },
      "source": [
        "\n",
        "\n",
        "---\n",
        "\n",
        "## Question 10:\n",
        "\n",
        "Looking at the results above it can be said that the pixel values in the blue channels would be very small compared to red channel. True/False?\n",
        "\n",
        "\n",
        "---\n",
        "\n",
        "\n"
      ]
    },
    {
      "cell_type": "markdown",
      "metadata": {
        "id": "b3ugFd57zNwa"
      },
      "source": [
        "# Autograd\n",
        "\n",
        "Pytorch supports automatic differentiation. The module which implements this is called **AutoGrad**. It calculates the gradients and keeps track in forward and backward passes. For primitive tensors, you need to enable or disable it using the `required_grad` flag. But, for advanced tensors, it is enabled by default"
      ]
    },
    {
      "cell_type": "code",
      "metadata": {
        "id": "VMOp4aiou6JR",
        "colab": {
          "base_uri": "https://localhost:8080/",
          "height": 197
        },
        "outputId": "e9a22acd-21b1-427d-c1c0-90302bc1c37a"
      },
      "source": [
        "a = torch.rand((3, 5), requires_grad = True)\n",
        "print(a)\n",
        "result = a * 5\n",
        "print(result)\n",
        "\n",
        "# grad can be implicitly created only for scalar outputs\n",
        "# so let's calculate the sum here so that the output becomes a scalar and we can apply a backward pass\n",
        "mean_result = result.sum()\n",
        "print(mean_result)\n",
        "# calculate gradient\n",
        "mean_result.backward()\n",
        "# print gradient of a\n",
        "print(a.grad)"
      ],
      "execution_count": null,
      "outputs": [
        {
          "output_type": "stream",
          "text": [
            "tensor([[0.1420, 0.0529, 0.6277, 0.6623, 0.4401],\n",
            "        [0.0893, 0.8400, 0.5712, 0.4038, 0.1173],\n",
            "        [0.3958, 0.8571, 0.1979, 0.5202, 0.4367]], requires_grad=True)\n",
            "tensor([[0.7102, 0.2647, 3.1385, 3.3117, 2.2004],\n",
            "        [0.4464, 4.2000, 2.8562, 2.0192, 0.5864],\n",
            "        [1.9788, 4.2853, 0.9895, 2.6009, 2.1835]], grad_fn=<MulBackward0>)\n",
            "tensor(31.7716, grad_fn=<SumBackward0>)\n",
            "tensor([[5., 5., 5., 5., 5.],\n",
            "        [5., 5., 5., 5., 5.],\n",
            "        [5., 5., 5., 5., 5.]])\n"
          ],
          "name": "stdout"
        }
      ]
    },
    {
      "cell_type": "markdown",
      "metadata": {
        "id": "ym0Amk2IGfLx"
      },
      "source": [
        "\n",
        "\n",
        "---\n",
        "\n",
        "## Question 11: \n",
        "\n",
        "Why the gradient of a is all 5s above?\n",
        "\n",
        "\n",
        "\n",
        "---\n",
        "\n"
      ]
    },
    {
      "cell_type": "markdown",
      "metadata": {
        "id": "7PDgGq2R0k7I"
      },
      "source": [
        "As we see, Pytorch automagically calculated the gradient value for us. It looks to be the correct value - we multiplied an input by 5, so the gradient of this operation equals to 5.\n",
        "\n",
        "# Disabling Autograd for tensors\n",
        "\n",
        "We don't need to compute gradients for all the variables that are involved in the pipeline. The Pytorch API provides 2 ways to disable autograd.\n",
        "\n",
        "`detach` - returns a copy of the tensor with autograd disabled. This \n",
        "\n",
        "1.   copy is built on the same memory as the original tensor, so in-place size / stride / storage changes (such as resize_ / resizeas / set / transpose) modifications are not allowed.\n",
        "2.   torch.no_grad() - It is a context manager that allows you to guard a series of operations from autograd without creating new tensors."
      ]
    },
    {
      "cell_type": "code",
      "metadata": {
        "id": "yqVG9fQb0cLW",
        "colab": {
          "base_uri": "https://localhost:8080/",
          "height": 71
        },
        "outputId": "2081f403-31a2-4296-c670-b899e246a8cc"
      },
      "source": [
        "a = torch.rand((3, 5), requires_grad=True)\n",
        "detached_a = a.detach()\n",
        "detached_result = detached_a * 5\n",
        "result = a * 10\n",
        "# we cannot do backward pass that is required for autograd using multideminsional output,\n",
        "# so let's calculate the sum here\n",
        "mean_result = result.sum()\n",
        "mean_result.backward()\n",
        "a.grad"
      ],
      "execution_count": null,
      "outputs": [
        {
          "output_type": "execute_result",
          "data": {
            "text/plain": [
              "tensor([[10., 10., 10., 10., 10.],\n",
              "        [10., 10., 10., 10., 10.],\n",
              "        [10., 10., 10., 10., 10.]])"
            ]
          },
          "metadata": {
            "tags": []
          },
          "execution_count": 37
        }
      ]
    },
    {
      "cell_type": "code",
      "metadata": {
        "id": "uqpch2Be02J7",
        "colab": {
          "base_uri": "https://localhost:8080/",
          "height": 71
        },
        "outputId": "0a5ee8e8-81b8-46f0-c7fc-ac406657e928"
      },
      "source": [
        "a = torch.rand((3, 5), requires_grad=True)\n",
        "with torch.no_grad():\n",
        "    detached_result = a * 5\n",
        "result = a * 10\n",
        "# we cannot do backward pass that is required for autograd using multideminsional output,\n",
        "# so let's calculate the sum here\n",
        "mean_result = result.sum()\n",
        "mean_result.backward()\n",
        "a.grad"
      ],
      "execution_count": null,
      "outputs": [
        {
          "output_type": "execute_result",
          "data": {
            "text/plain": [
              "tensor([[10., 10., 10., 10., 10.],\n",
              "        [10., 10., 10., 10., 10.],\n",
              "        [10., 10., 10., 10., 10.]])"
            ]
          },
          "metadata": {
            "tags": []
          },
          "execution_count": 38
        }
      ]
    },
    {
      "cell_type": "markdown",
      "metadata": {
        "id": "vjh2rYOPJUAZ"
      },
      "source": [
        "# Custom Network\n",
        "\n",
        "A fully-connected ReLU network with one hidden layer and no biases, trained to predict y from x by minimizing squared Euclidean distance.\n",
        "\n",
        "This implementation uses PyTorch tensors to manually compute the forward pass, loss, and backward pass.\n",
        "\n",
        "A PyTorch Tensor is basically the same as a numpy array: it does not know anything about deep learning or computational graphs or gradients, and is just a generic n-dimensional array to be used for arbitrary numeric computation.\n",
        "\n",
        "The biggest difference between a numpy array and a PyTorch Tensor is that a PyTorch Tensor can run on either CPU or GPU. To run operations on the GPU, just cast the Tensor to a cuda datatype."
      ]
    },
    {
      "cell_type": "code",
      "metadata": {
        "id": "0nf5RaB104Vp",
        "colab": {
          "base_uri": "https://localhost:8080/",
          "height": 1000
        },
        "outputId": "c0829682-3be1-4709-dff8-2e4d2bc59e53"
      },
      "source": [
        "dtype = torch.float\n",
        "device = torch.device(\"cpu\")\n",
        "# device = torch.device(\"cuda:0\") # Uncomment this to run on GPU\n",
        "\n",
        "# N is batch size; D_in is input dimension;\n",
        "# H is hidden dimension; D_out is output dimension.\n",
        "N, D_in, H, D_out = 64, 1000, 100, 10\n",
        "\n",
        "# Create random input and output data\n",
        "x = torch.randn(N, D_in, device=device, dtype=dtype)\n",
        "y = torch.randn(N, D_out, device=device, dtype=dtype)\n",
        "\n",
        "# Randomly initialize weights\n",
        "w1 = torch.randn(D_in, H, device=device, dtype=dtype)\n",
        "w2 = torch.randn(H, D_out, device=device, dtype=dtype)\n",
        "\n",
        "learning_rate = 1e-6\n",
        "for t in range(500):\n",
        "    # Forward pass: compute predicted y\n",
        "    h = x.mm(w1)\n",
        "    h_relu = h.clamp(min=0)\n",
        "    y_pred = h_relu.mm(w2)\n",
        "\n",
        "    # Compute and print loss\n",
        "    loss = (y_pred - y).pow(2).sum().item()\n",
        "    print(t, loss)\n",
        "\n",
        "    # Backprop to compute gradients of w1 and w2 with respect to loss\n",
        "    grad_y_pred = 2*(y_pred - y)\n",
        "    grad_w2 = h_relu.t().mm(grad_y_pred)\n",
        "    grad_h_relu = grad_y_pred.mm(w2.t())\n",
        "    grad_h = grad_h_relu.clone()\n",
        "    grad_h[h < 0] = 0\n",
        "    grad_w1 = x.t().mm(grad_h)\n",
        "\n",
        "    # Update weights using gradient descent\n",
        "    w1 -= learning_rate * grad_w1\n",
        "    w2 -= learning_rate * grad_w2"
      ],
      "execution_count": null,
      "outputs": [
        {
          "output_type": "stream",
          "text": [
            "0 41697068.0\n",
            "1 42741256.0\n",
            "2 45341812.0\n",
            "3 39751452.0\n",
            "4 25930328.0\n",
            "5 12725715.0\n",
            "6 5614377.5\n",
            "7 2761390.75\n",
            "8 1680575.875\n",
            "9 1209127.5\n",
            "10 951487.9375\n",
            "11 780990.3125\n",
            "12 654308.125\n",
            "13 554848.9375\n",
            "14 474434.0625\n",
            "15 408432.6875\n",
            "16 353772.0625\n",
            "17 307994.8125\n",
            "18 269352.90625\n",
            "19 236650.5625\n",
            "20 208688.625\n",
            "21 184659.71875\n",
            "22 163873.390625\n",
            "23 145837.0625\n",
            "24 130119.34375\n",
            "25 116374.53125\n",
            "26 104308.7109375\n",
            "27 93689.65625\n",
            "28 84314.09375\n",
            "29 76013.9765625\n",
            "30 68648.3515625\n",
            "31 62093.23046875\n",
            "32 56248.9140625\n",
            "33 51025.9296875\n",
            "34 46352.0078125\n",
            "35 42163.4921875\n",
            "36 38400.97265625\n",
            "37 35012.98046875\n",
            "38 31960.2578125\n",
            "39 29202.791015625\n",
            "40 26708.99609375\n",
            "41 24451.38671875\n",
            "42 22404.189453125\n",
            "43 20547.466796875\n",
            "44 18860.30078125\n",
            "45 17325.404296875\n",
            "46 15927.8154296875\n",
            "47 14653.16015625\n",
            "48 13490.51953125\n",
            "49 12431.3388671875\n",
            "50 11466.0859375\n",
            "51 10582.70703125\n",
            "52 9773.423828125\n",
            "53 9031.99609375\n",
            "54 8352.2890625\n",
            "55 7728.07421875\n",
            "56 7154.50439453125\n",
            "57 6626.9853515625\n",
            "58 6141.50048828125\n",
            "59 5694.49609375\n",
            "60 5282.9736328125\n",
            "61 4904.0185546875\n",
            "62 4554.17822265625\n",
            "63 4231.1953125\n",
            "64 3933.441650390625\n",
            "65 3658.220458984375\n",
            "66 3403.770263671875\n",
            "67 3168.24609375\n",
            "68 2950.22802734375\n",
            "69 2748.300048828125\n",
            "70 2561.19091796875\n",
            "71 2387.71044921875\n",
            "72 2226.76513671875\n",
            "73 2077.4560546875\n",
            "74 1938.790283203125\n",
            "75 1810.0057373046875\n",
            "76 1690.32373046875\n",
            "77 1579.087890625\n",
            "78 1475.653564453125\n",
            "79 1379.4122314453125\n",
            "80 1289.7012939453125\n",
            "81 1206.1904296875\n",
            "82 1128.460205078125\n",
            "83 1056.072021484375\n",
            "84 988.5911254882812\n",
            "85 925.7052612304688\n",
            "86 867.09619140625\n",
            "87 812.4027099609375\n",
            "88 761.3564453125\n",
            "89 713.7047729492188\n",
            "90 669.213134765625\n",
            "91 627.63720703125\n",
            "92 588.7909545898438\n",
            "93 552.4854125976562\n",
            "94 518.5298461914062\n",
            "95 486.77703857421875\n",
            "96 457.07135009765625\n",
            "97 429.2778625488281\n",
            "98 403.2607727050781\n",
            "99 378.90155029296875\n",
            "100 356.08843994140625\n",
            "101 334.7173156738281\n",
            "102 314.69500732421875\n",
            "103 295.92529296875\n",
            "104 278.33172607421875\n",
            "105 261.840576171875\n",
            "106 246.3705291748047\n",
            "107 231.86231994628906\n",
            "108 218.24771118164062\n",
            "109 205.46836853027344\n",
            "110 193.47393798828125\n",
            "111 182.2140655517578\n",
            "112 171.64060974121094\n",
            "113 161.7060546875\n",
            "114 152.37240600585938\n",
            "115 143.60488891601562\n",
            "116 135.3736572265625\n",
            "117 127.6404037475586\n",
            "118 120.36878967285156\n",
            "119 113.52889251708984\n",
            "120 107.09272766113281\n",
            "121 101.03926849365234\n",
            "122 95.3431167602539\n",
            "123 89.98001098632812\n",
            "124 84.93232727050781\n",
            "125 80.1795654296875\n",
            "126 75.70399475097656\n",
            "127 71.49104309082031\n",
            "128 67.51925659179688\n",
            "129 63.777496337890625\n",
            "130 60.250972747802734\n",
            "131 56.92778396606445\n",
            "132 53.795379638671875\n",
            "133 50.84176254272461\n",
            "134 48.0562744140625\n",
            "135 45.429996490478516\n",
            "136 42.954071044921875\n",
            "137 40.617462158203125\n",
            "138 38.41382598876953\n",
            "139 36.332862854003906\n",
            "140 34.370635986328125\n",
            "141 32.517269134521484\n",
            "142 30.76898765563965\n",
            "143 29.116533279418945\n",
            "144 27.55792808532715\n",
            "145 26.08561897277832\n",
            "146 24.694355010986328\n",
            "147 23.379676818847656\n",
            "148 22.13813591003418\n",
            "149 20.965492248535156\n",
            "150 19.85602378845215\n",
            "151 18.808303833007812\n",
            "152 17.817197799682617\n",
            "153 16.880889892578125\n",
            "154 15.995311737060547\n",
            "155 15.15793228149414\n",
            "156 14.366055488586426\n",
            "157 13.616883277893066\n",
            "158 12.908146858215332\n",
            "159 12.237586975097656\n",
            "160 11.603570938110352\n",
            "161 11.00322151184082\n",
            "162 10.4354248046875\n",
            "163 9.897371292114258\n",
            "164 9.388818740844727\n",
            "165 8.9064359664917\n",
            "166 8.450139999389648\n",
            "167 8.018111228942871\n",
            "168 7.608608245849609\n",
            "169 7.221286773681641\n",
            "170 6.853899002075195\n",
            "171 6.506208419799805\n",
            "172 6.1767144203186035\n",
            "173 5.864340305328369\n",
            "174 5.568436622619629\n",
            "175 5.288036346435547\n",
            "176 5.022098541259766\n",
            "177 4.769904136657715\n",
            "178 4.531124114990234\n",
            "179 4.304778575897217\n",
            "180 4.089944839477539\n",
            "181 3.8860511779785156\n",
            "182 3.6927154064178467\n",
            "183 3.5095672607421875\n",
            "184 3.3354227542877197\n",
            "185 3.1705892086029053\n",
            "186 3.0140340328216553\n",
            "187 2.8655760288238525\n",
            "188 2.7244620323181152\n",
            "189 2.5907294750213623\n",
            "190 2.463684558868408\n",
            "191 2.34313702583313\n",
            "192 2.228688955307007\n",
            "193 2.1201112270355225\n",
            "194 2.017040967941284\n",
            "195 1.9189649820327759\n",
            "196 1.8258908987045288\n",
            "197 1.737593650817871\n",
            "198 1.6535447835922241\n",
            "199 1.5737546682357788\n",
            "200 1.497877836227417\n",
            "201 1.4257644414901733\n",
            "202 1.357348084449768\n",
            "203 1.2924302816390991\n",
            "204 1.2306777238845825\n",
            "205 1.1719077825546265\n",
            "206 1.1160553693771362\n",
            "207 1.0629217624664307\n",
            "208 1.0124152898788452\n",
            "209 0.9644915461540222\n",
            "210 0.9188042879104614\n",
            "211 0.8754090666770935\n",
            "212 0.8341062664985657\n",
            "213 0.7947860956192017\n",
            "214 0.757378339767456\n",
            "215 0.7218834161758423\n",
            "216 0.688075602054596\n",
            "217 0.6558401584625244\n",
            "218 0.6252689361572266\n",
            "219 0.5960175395011902\n",
            "220 0.5683121085166931\n",
            "221 0.5418125987052917\n",
            "222 0.5167039632797241\n",
            "223 0.49281758069992065\n",
            "224 0.4699476957321167\n",
            "225 0.4482196867465973\n",
            "226 0.42758142948150635\n",
            "227 0.40780767798423767\n",
            "228 0.38911840319633484\n",
            "229 0.3712697923183441\n",
            "230 0.354256272315979\n",
            "231 0.3380529582500458\n",
            "232 0.32258468866348267\n",
            "233 0.30782800912857056\n",
            "234 0.2938288152217865\n",
            "235 0.28045469522476196\n",
            "236 0.2677578032016754\n",
            "237 0.25562939047813416\n",
            "238 0.24404224753379822\n",
            "239 0.23301008343696594\n",
            "240 0.22251316905021667\n",
            "241 0.21248207986354828\n",
            "242 0.2029309868812561\n",
            "243 0.19378213584423065\n",
            "244 0.18509632349014282\n",
            "245 0.176781564950943\n",
            "246 0.16887733340263367\n",
            "247 0.16132599115371704\n",
            "248 0.1541213095188141\n",
            "249 0.14725880324840546\n",
            "250 0.14069634675979614\n",
            "251 0.1344941109418869\n",
            "252 0.1285015493631363\n",
            "253 0.12282150983810425\n",
            "254 0.11737260967493057\n",
            "255 0.11218206584453583\n",
            "256 0.10722695291042328\n",
            "257 0.10252313315868378\n",
            "258 0.09800814837217331\n",
            "259 0.09369520097970963\n",
            "260 0.08962604403495789\n",
            "261 0.08565357327461243\n",
            "262 0.08191042393445969\n",
            "263 0.0783218964934349\n",
            "264 0.0749213844537735\n",
            "265 0.07165995240211487\n",
            "266 0.06853197515010834\n",
            "267 0.06556118279695511\n",
            "268 0.06274613738059998\n",
            "269 0.05999977886676788\n",
            "270 0.05741201713681221\n",
            "271 0.054932136088609695\n",
            "272 0.05257082358002663\n",
            "273 0.05031776428222656\n",
            "274 0.048139605671167374\n",
            "275 0.04608524590730667\n",
            "276 0.04410548508167267\n",
            "277 0.04222935810685158\n",
            "278 0.04042355716228485\n",
            "279 0.0386926494538784\n",
            "280 0.03704044967889786\n",
            "281 0.03546064347028732\n",
            "282 0.033953797072172165\n",
            "283 0.03250502049922943\n",
            "284 0.03113105520606041\n",
            "285 0.02981664426624775\n",
            "286 0.028558827936649323\n",
            "287 0.027360480278730392\n",
            "288 0.026201019063591957\n",
            "289 0.025094807147979736\n",
            "290 0.024046752601861954\n",
            "291 0.02303367853164673\n",
            "292 0.022077186033129692\n",
            "293 0.021150600165128708\n",
            "294 0.020266614854335785\n",
            "295 0.019426193088293076\n",
            "296 0.018611058592796326\n",
            "297 0.01785062626004219\n",
            "298 0.017108455300331116\n",
            "299 0.016407839953899384\n",
            "300 0.0157299991697073\n",
            "301 0.015083320438861847\n",
            "302 0.014464815147221088\n",
            "303 0.013861974701285362\n",
            "304 0.013300239108502865\n",
            "305 0.012763471342623234\n",
            "306 0.012243134900927544\n",
            "307 0.011749541386961937\n",
            "308 0.011266397312283516\n",
            "309 0.010812455788254738\n",
            "310 0.010376501828432083\n",
            "311 0.009960856288671494\n",
            "312 0.009560356847941875\n",
            "313 0.009170137345790863\n",
            "314 0.008808694779872894\n",
            "315 0.008454280905425549\n",
            "316 0.008118793368339539\n",
            "317 0.007794482633471489\n",
            "318 0.007487921044230461\n",
            "319 0.007187684066593647\n",
            "320 0.006901375949382782\n",
            "321 0.006632736884057522\n",
            "322 0.006374903488904238\n",
            "323 0.006123802158981562\n",
            "324 0.005888651590794325\n",
            "325 0.005660739727318287\n",
            "326 0.005446350667625666\n",
            "327 0.0052328892052173615\n",
            "328 0.005025830585509539\n",
            "329 0.004831657744944096\n",
            "330 0.004644658882170916\n",
            "331 0.0044679478742182255\n",
            "332 0.0042971046641469\n",
            "333 0.004133136477321386\n",
            "334 0.003977714106440544\n",
            "335 0.0038278165739029646\n",
            "336 0.003684458788484335\n",
            "337 0.0035473969765007496\n",
            "338 0.0034140755888074636\n",
            "339 0.0032898574136197567\n",
            "340 0.0031679149251431227\n",
            "341 0.00304879411123693\n",
            "342 0.002935084281489253\n",
            "343 0.0028290809132158756\n",
            "344 0.002723771147429943\n",
            "345 0.002623329870402813\n",
            "346 0.0025318902917206287\n",
            "347 0.002436097478494048\n",
            "348 0.0023511317558586597\n",
            "349 0.0022648824378848076\n",
            "350 0.0021866122260689735\n",
            "351 0.0021068211644887924\n",
            "352 0.0020323770586401224\n",
            "353 0.0019600491505116224\n",
            "354 0.0018923120805993676\n",
            "355 0.0018251631408929825\n",
            "356 0.0017634676769375801\n",
            "357 0.0017036865465342999\n",
            "358 0.0016452072886750102\n",
            "359 0.0015875922981649637\n",
            "360 0.0015339134261012077\n",
            "361 0.0014796849573031068\n",
            "362 0.0014315239386633039\n",
            "363 0.0013828749069944024\n",
            "364 0.0013369454536587\n",
            "365 0.0012926956405863166\n",
            "366 0.001250681933015585\n",
            "367 0.0012088485527783632\n",
            "368 0.0011703247437253594\n",
            "369 0.0011315990705043077\n",
            "370 0.0010963284876197577\n",
            "371 0.0010604908457025886\n",
            "372 0.0010283330921083689\n",
            "373 0.0009953598491847515\n",
            "374 0.000963767699431628\n",
            "375 0.000932463794015348\n",
            "376 0.0009045046172104776\n",
            "377 0.000877134851180017\n",
            "378 0.0008499176474288106\n",
            "379 0.0008233329863287508\n",
            "380 0.0007980092195793986\n",
            "381 0.0007742084562778473\n",
            "382 0.0007493104203604162\n",
            "383 0.0007266938337124884\n",
            "384 0.0007053439621813595\n",
            "385 0.000684786937199533\n",
            "386 0.0006640242063440382\n",
            "387 0.0006444114842452109\n",
            "388 0.000625890155788511\n",
            "389 0.0006074241828173399\n",
            "390 0.0005897730006836355\n",
            "391 0.0005721691413782537\n",
            "392 0.0005564333405345678\n",
            "393 0.0005401982925832272\n",
            "394 0.0005247755325399339\n",
            "395 0.000510983110871166\n",
            "396 0.0004960264777764678\n",
            "397 0.00048262844211421907\n",
            "398 0.00046903459588065743\n",
            "399 0.0004562774847727269\n",
            "400 0.0004435847222339362\n",
            "401 0.0004325133631937206\n",
            "402 0.00042085189488716424\n",
            "403 0.000410329521400854\n",
            "404 0.00039858301170170307\n",
            "405 0.0003880880249198526\n",
            "406 0.0003787554451264441\n",
            "407 0.00036880761035718024\n",
            "408 0.0003581673954613507\n",
            "409 0.00034927541855722666\n",
            "410 0.00034035247517749667\n",
            "411 0.00033204955980181694\n",
            "412 0.0003237562777940184\n",
            "413 0.00031498822499997914\n",
            "414 0.0003078297304455191\n",
            "415 0.00030012454953975976\n",
            "416 0.0002928829344455153\n",
            "417 0.00028616582858376205\n",
            "418 0.00027925442554987967\n",
            "419 0.00027273231535218656\n",
            "420 0.00026613505906425416\n",
            "421 0.0002589935320429504\n",
            "422 0.0002531931095290929\n",
            "423 0.00024738258798606694\n",
            "424 0.00024167619994841516\n",
            "425 0.00023617155966348946\n",
            "426 0.00023087780573405325\n",
            "427 0.0002256411680718884\n",
            "428 0.00021980957535561174\n",
            "429 0.00021439349802676588\n",
            "430 0.00021014249068684876\n",
            "431 0.00020507184672169387\n",
            "432 0.00020072999177500606\n",
            "433 0.00019618167425505817\n",
            "434 0.000192071616766043\n",
            "435 0.00018807982269208878\n",
            "436 0.00018373955390416086\n",
            "437 0.00018011333304457366\n",
            "438 0.00017592671792954206\n",
            "439 0.00017252677935175598\n",
            "440 0.0001688909687800333\n",
            "441 0.00016549423162359744\n",
            "442 0.0001617317902855575\n",
            "443 0.00015873093798290938\n",
            "444 0.00015536558930762112\n",
            "445 0.0001526300038676709\n",
            "446 0.0001493716990808025\n",
            "447 0.00014603826275561005\n",
            "448 0.00014347078104037791\n",
            "449 0.0001407700910931453\n",
            "450 0.00013777597632724792\n",
            "451 0.0001347745710518211\n",
            "452 0.00013245115405879915\n",
            "453 0.00012971468095202\n",
            "454 0.00012735446216538548\n",
            "455 0.00012458441779017448\n",
            "456 0.00012227818660903722\n",
            "457 0.00012017651170026511\n",
            "458 0.0001182482810690999\n",
            "459 0.00011597048433031887\n",
            "460 0.00011374703171895817\n",
            "461 0.00011132389772683382\n",
            "462 0.00010925876267720014\n",
            "463 0.00010745272447820753\n",
            "464 0.00010559568909229711\n",
            "465 0.00010388433292973787\n",
            "466 0.00010192944318987429\n",
            "467 0.00010013658902607858\n",
            "468 9.839859558269382e-05\n",
            "469 9.686136763775721e-05\n",
            "470 9.52863265410997e-05\n",
            "471 9.349161700811237e-05\n",
            "472 9.17674697120674e-05\n",
            "473 9.023297025123611e-05\n",
            "474 8.901165710994974e-05\n",
            "475 8.768695988692343e-05\n",
            "476 8.629666263004765e-05\n",
            "477 8.446068386547267e-05\n",
            "478 8.306359086418524e-05\n",
            "479 8.205755148082972e-05\n",
            "480 8.055055513978004e-05\n",
            "481 7.911526336101815e-05\n",
            "482 7.770280353724957e-05\n",
            "483 7.664189615752548e-05\n",
            "484 7.5345320510678e-05\n",
            "485 7.42390620871447e-05\n",
            "486 7.316861592698842e-05\n",
            "487 7.212166383396834e-05\n",
            "488 7.111427839845419e-05\n",
            "489 6.977125303819776e-05\n",
            "490 6.901657616253942e-05\n",
            "491 6.775659130653366e-05\n",
            "492 6.652269803453237e-05\n",
            "493 6.55873809591867e-05\n",
            "494 6.454372487496585e-05\n",
            "495 6.36925979051739e-05\n",
            "496 6.274688348639756e-05\n",
            "497 6.193131412146613e-05\n",
            "498 6.104136991780251e-05\n",
            "499 6.017859050189145e-05\n"
          ],
          "name": "stdout"
        }
      ]
    },
    {
      "cell_type": "markdown",
      "metadata": {
        "id": "ycwxAPHZLNST"
      },
      "source": [
        "\n",
        "\n",
        "---\n",
        "## Question 12\n",
        "\n",
        "In the code above, why do we have 2 in '2.0*(y_pred - y)`?\n",
        "\n",
        "## Question 13\n",
        "In the code above, what does `grad_h[h < 0] = 0` signify?\n",
        "\n",
        "## Question 14\n",
        "In the code above, how many \"epochs\" have we trained the model for? \n",
        "\n",
        "## Question 15\n",
        "In the code above, if we take the trained model, and run it on fresh  inputs, the trained model will be able to predict fresh output with high accuracy. \n",
        "\n",
        "## Question 16\n",
        "In the code above, if we dont use clone in `grad_h = grad_h_relu.clone()` the model will still train without any issues. "
      ]
    },
    {
      "cell_type": "code",
      "metadata": {
        "id": "PnJ49I07JJI6"
      },
      "source": [
        ""
      ],
      "execution_count": null,
      "outputs": []
    }
  ]
}