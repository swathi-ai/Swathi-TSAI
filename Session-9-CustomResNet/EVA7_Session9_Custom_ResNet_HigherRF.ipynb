{
  "nbformat": 4,
  "nbformat_minor": 0,
  "metadata": {
    "colab": {
      "name": "EVA7_Session9_Custom_ResNet_HigherRF.ipynb",
      "provenance": [],
      "collapsed_sections": []
    },
    "kernelspec": {
      "name": "python3",
      "display_name": "Python 3"
    },
    "language_info": {
      "name": "python"
    }
  },
  "cells": [
    {
      "cell_type": "code",
      "metadata": {
        "id": "ci93IFQSyn2i"
      },
      "source": [
        "!pip install -U albumentations\n",
        "!pip install gitpython\n"
      ],
      "execution_count": null,
      "outputs": []
    },
    {
      "cell_type": "code",
      "metadata": {
        "id": "fP9-ED_9ytvG"
      },
      "source": [
        "import git\n",
        "import os\n",
        "import albumentations as A\n",
        "from albumentations.pytorch.transforms import ToTensorV2"
      ],
      "execution_count": null,
      "outputs": []
    },
    {
      "cell_type": "code",
      "metadata": {
        "id": "CjAgg73FytrY"
      },
      "source": [
        "os.chdir(\"/content/\")"
      ],
      "execution_count": null,
      "outputs": []
    },
    {
      "cell_type": "code",
      "metadata": {
        "id": "p7NDMObGytmO"
      },
      "source": [
        "if os.path.isdir(\"/content/Transformer-DeepLearning\"):\n",
        "  !rm -rf \"/content/Transformer-DeepLearning\""
      ],
      "execution_count": null,
      "outputs": []
    },
    {
      "cell_type": "code",
      "metadata": {
        "id": "ccFA5i8ZytiJ"
      },
      "source": [
        "!git clone https://github.com/amitkml/Transformer-DeepLearning"
      ],
      "execution_count": null,
      "outputs": []
    },
    {
      "cell_type": "code",
      "metadata": {
        "id": "HKLiW_T-ytfv"
      },
      "source": [
        "os.chdir(\"/content/Transformer-DeepLearning/ConvModelAdvancedTraining/models\")\n",
        "# import resnet as resnet\n",
        "# import resnet_ln as resnet_ln\n",
        "import resnet_custom as resnet_custom"
      ],
      "execution_count": null,
      "outputs": []
    },
    {
      "cell_type": "code",
      "metadata": {
        "id": "z5HyZGafytda"
      },
      "source": [
        "!pip install torchsummary\n",
        "from torchsummary import summary"
      ],
      "execution_count": null,
      "outputs": []
    },
    {
      "cell_type": "code",
      "metadata": {
        "id": "miY-dsHDytac"
      },
      "source": [
        "os.chdir(\"/content/Transformer-DeepLearning/ConvModelAdvancedTraining\")\n",
        "# %tb\n",
        "import utils as utils\n",
        "import main as model_main\n",
        "import lr_finder as lr_finder"
      ],
      "execution_count": null,
      "outputs": []
    },
    {
      "cell_type": "code",
      "metadata": {
        "id": "kb1tyLqhytVU"
      },
      "source": [
        "%tb\n",
        "max_lr = lr_finder.lr_finder_ls()"
      ],
      "execution_count": null,
      "outputs": []
    },
    {
      "cell_type": "code",
      "metadata": {
        "id": "aByxUBuyytSp"
      },
      "source": [
        "start_lr = 1e-3\n",
        "print(f\"Max LR forund from LR Finder:{start_lr}\")\n",
        "max_lr = max_lr[-1]/10"
      ],
      "execution_count": null,
      "outputs": []
    },
    {
      "cell_type": "code",
      "metadata": {
        "id": "tfHCcnQRytP9"
      },
      "source": [
        "start_lr = 1e-3\n",
        "# max_lr = 0.0172685370741483 (Working with 87%)\n",
        "max_lr = 0.272685370741483  # 0.009746555323590814"
      ],
      "execution_count": null,
      "outputs": []
    },
    {
      "cell_type": "code",
      "metadata": {
        "id": "lke3xPVIytMj"
      },
      "source": [
        ""
      ],
      "execution_count": null,
      "outputs": []
    },
    {
      "cell_type": "markdown",
      "metadata": {
        "id": "VsIDIS0ZzE4B"
      },
      "source": [
        "Visualize Network Architecture"
      ]
    },
    {
      "cell_type": "code",
      "metadata": {
        "id": "FXIyxSbJys6O"
      },
      "source": [
        "import torch\n",
        "import torch.backends.cudnn as cudnn\n",
        "import torch.nn as nn\n",
        "import torch.nn.functional as F\n",
        "import torch.optim as optim\n",
        "import torchvision\n",
        "import torchvision.transforms as transforms"
      ],
      "execution_count": null,
      "outputs": []
    },
    {
      "cell_type": "code",
      "metadata": {
        "id": "B4cbytdMzJbO"
      },
      "source": [
        "use_cuda = torch.cuda.is_available()\n",
        "device = torch.device(\"cuda\" if use_cuda else \"cpu\")"
      ],
      "execution_count": null,
      "outputs": []
    },
    {
      "cell_type": "code",
      "metadata": {
        "id": "HXkiK2cZzJV6"
      },
      "source": [
        "my_model = model_main.get_model()"
      ],
      "execution_count": null,
      "outputs": []
    },
    {
      "cell_type": "code",
      "metadata": {
        "id": "Y3GuiJrczJKV"
      },
      "source": [
        "!pip install hiddenlayer"
      ],
      "execution_count": null,
      "outputs": []
    },
    {
      "cell_type": "code",
      "metadata": {
        "id": "xIwHQozQzJHt"
      },
      "source": [
        "import hiddenlayer as hl\n",
        "input = torch.zeros([1, 3, 32, 32])\n",
        "hl.build_graph(my_model, input.to(device))"
      ],
      "execution_count": null,
      "outputs": []
    },
    {
      "cell_type": "markdown",
      "metadata": {
        "id": "AOzC7UkkzVv-"
      },
      "source": [
        "Final Model - Ultimate"
      ]
    },
    {
      "cell_type": "code",
      "metadata": {
        "id": "PoTZ6DuAzJEu"
      },
      "source": [
        "start_lr = 0.015\n",
        "# max_lr = 0.0172685370741483 \n",
        "max_lr = 0.018272685370741483\n",
        "start_lr = max_lr/5"
      ],
      "execution_count": null,
      "outputs": []
    },
    {
      "cell_type": "code",
      "metadata": {
        "id": "3b3ZtwpFzI9E"
      },
      "source": [
        "(wrong_images, net, target_layers,device) = model_main.run_experiments_custom_resnet_fc(start_lr = start_lr,\n",
        "                                                                                        lrmax = max_lr,\n",
        "                                                                                        max_holes = 3,\n",
        "                                                                                        IsSGD= False,\n",
        "                                                                                        ShowGradcam = False)"
      ],
      "execution_count": null,
      "outputs": []
    },
    {
      "cell_type": "code",
      "metadata": {
        "id": "TsV31oUYzfmR"
      },
      "source": [
        "target_layers = [\"layer1\",\"layer2\",\"layer3\"]\n",
        "model_main.get_gradcam_details(wrong_images, net, target_layers,device)"
      ],
      "execution_count": null,
      "outputs": []
    },
    {
      "cell_type": "markdown",
      "metadata": {
        "id": "ygQQuhISziBS"
      },
      "source": [
        "Experiments Backup\n",
        "\n",
        "Final Model"
      ]
    },
    {
      "cell_type": "code",
      "metadata": {
        "id": "NLCj-3H1ziaF"
      },
      "source": [
        "start_lr = 0.015\n",
        "# max_lr = 0.0172685370741483 \n",
        "max_lr = 0.018272685370741483"
      ],
      "execution_count": null,
      "outputs": []
    },
    {
      "cell_type": "code",
      "metadata": {
        "id": "nbaSZqkRzpPk"
      },
      "source": [
        "(wrong_images, net, target_layers,device) = model_main.run_experiments_custom_resnet_fc(start_lr = start_lr,\n",
        "                                                                                        lrmax = max_lr,\n",
        "                                                                                        max_holes = 3,\n",
        "                                                                                        IsSGD= False,\n",
        "                                                                                        ShowGradcam = False)"
      ],
      "execution_count": null,
      "outputs": []
    },
    {
      "cell_type": "markdown",
      "metadata": {
        "id": "VoZDm0RqztjA"
      },
      "source": [
        "Experiments\n",
        "\n",
        "Experimenting with SGD"
      ]
    },
    {
      "cell_type": "code",
      "metadata": {
        "id": "q562JcJczpKS"
      },
      "source": [
        "model_main.run_experiments_custom_resnet(start_lr = start_lr, lrmax = max_lr)"
      ],
      "execution_count": null,
      "outputs": []
    },
    {
      "cell_type": "markdown",
      "metadata": {
        "id": "HAq4xMpuz1xq"
      },
      "source": [
        "Experimenting with Adam"
      ]
    },
    {
      "cell_type": "code",
      "metadata": {
        "id": "q9_uhlFwzpG6"
      },
      "source": [
        "start_lr = 1e-3\n",
        "# max_lr = 0.0172685370741483 (Working with 87%)\n",
        "max_lr = 0.012272685370741483  # 0.009746555323590814"
      ],
      "execution_count": null,
      "outputs": []
    },
    {
      "cell_type": "code",
      "metadata": {
        "id": "zGW6BtR5z5Pu"
      },
      "source": [
        "model_main.run_experiments_custom_resnet(start_lr = start_lr, \n",
        "                                         lrmax = max_lr,\n",
        "                                         IsSGD= False)"
      ],
      "execution_count": null,
      "outputs": []
    },
    {
      "cell_type": "code",
      "metadata": {
        "id": "E_JsD7Fgz5Mo"
      },
      "source": [
        "start_lr = 1e-3\n",
        "# max_lr = 0.0172685370741483 (Working with 87%)\n",
        "max_lr = 0.022272685370741483  # 0.009746555323590814"
      ],
      "execution_count": null,
      "outputs": []
    },
    {
      "cell_type": "code",
      "metadata": {
        "id": "RTY4E9qlz5Js"
      },
      "source": [
        "model_main.run_experiments_custom_resnet(start_lr = start_lr, \n",
        "                                         lrmax = max_lr,\n",
        "                                         IsSGD= False)"
      ],
      "execution_count": null,
      "outputs": []
    },
    {
      "cell_type": "code",
      "metadata": {
        "id": "3Psohimyz5FG"
      },
      "source": [
        "start_lr = 1e-3\n",
        "# max_lr = 0.0172685370741483 (Working with 87%)\n",
        "max_lr = 0.016272685370741483  # 0.009746555323590814"
      ],
      "execution_count": null,
      "outputs": []
    },
    {
      "cell_type": "code",
      "metadata": {
        "id": "Ior8Rz4Tz5CH"
      },
      "source": [
        "model_main.run_experiments_custom_resnet(start_lr = start_lr, \n",
        "                                         lrmax = max_lr,\n",
        "                                         IsSGD= False)"
      ],
      "execution_count": null,
      "outputs": []
    },
    {
      "cell_type": "markdown",
      "metadata": {
        "id": "L8WAMwBl0Jon"
      },
      "source": [
        "Custom ResNet with 1FC - max-holes =4"
      ]
    },
    {
      "cell_type": "code",
      "metadata": {
        "id": "eslvIFq5z4_o"
      },
      "source": [
        "start_lr = 1e-2\n",
        "# max_lr = 0.0172685370741483 (Working with 87%)\n",
        "max_lr = 0.012272685370741483  # 0.009746555323590814"
      ],
      "execution_count": null,
      "outputs": []
    },
    {
      "cell_type": "code",
      "metadata": {
        "id": "F6c8KzYpz480"
      },
      "source": [
        "model_main.run_experiments_custom_resnet_fc(start_lr = start_lr, \n",
        "                                         lrmax = max_lr,\n",
        "                                         IsSGD= False)"
      ],
      "execution_count": null,
      "outputs": []
    },
    {
      "cell_type": "markdown",
      "metadata": {
        "id": "_gkVLG000Sgi"
      },
      "source": [
        "Custom ResNet with 1FC - max-holes = 5"
      ]
    },
    {
      "cell_type": "code",
      "metadata": {
        "id": "TEpsMTLHz46I"
      },
      "source": [
        "start_lr = 1e-2\n",
        "# max_lr = 0.0172685370741483 (Working with 87%)\n",
        "max_lr = 0.012272685370741483  # 0.009746555323590814"
      ],
      "execution_count": null,
      "outputs": []
    },
    {
      "cell_type": "code",
      "metadata": {
        "id": "xm1ZCLsnz43i"
      },
      "source": [
        "my_model = model_main.get_model()"
      ],
      "execution_count": null,
      "outputs": []
    },
    {
      "cell_type": "code",
      "metadata": {
        "id": "Y1CfPhrAz40m"
      },
      "source": [
        "(wrong_images, net, target_layers,device) = model_main.run_experiments_custom_resnet_fc(start_lr = start_lr,\n",
        "                                                                                        lrmax = max_lr,\n",
        "                                                                                        max_holes = 4,\n",
        "                                                                                        IsSGD= False,\n",
        "                                                                                        ShowGradcam = False)"
      ],
      "execution_count": null,
      "outputs": []
    },
    {
      "cell_type": "code",
      "metadata": {
        "id": "DBsDU8buz4x5"
      },
      "source": [
        "target_layers = [\"layer1\",\"layer2\",\"layer3\"]\n",
        "model_main.get_gradcam_details(wrong_images, net, target_layers,device)"
      ],
      "execution_count": null,
      "outputs": []
    },
    {
      "cell_type": "markdown",
      "metadata": {
        "id": "W-iYCH-F0fhR"
      },
      "source": [
        "More Experiments- References\n",
        "Final Model - Further MIN LR of Max/7"
      ]
    },
    {
      "cell_type": "code",
      "metadata": {
        "id": "WYU2M4mzz4s7"
      },
      "source": [
        "start_lr = 0.015\n",
        "# max_lr = 0.0172685370741483 \n",
        "max_lr = 0.018272685370741483\n",
        "start_lr = max_lr/7"
      ],
      "execution_count": null,
      "outputs": []
    },
    {
      "cell_type": "code",
      "metadata": {
        "id": "CdAa3OfY0lex"
      },
      "source": [
        "(wrong_images, net, target_layers,device) = model_main.run_experiments_custom_resnet_fc(start_lr = start_lr,\n",
        "                                                                                        lrmax = max_lr,\n",
        "                                                                                        max_holes = 3,\n",
        "                                                                                        IsSGD= False,\n",
        "                                                                                        ShowGradcam = False)"
      ],
      "execution_count": null,
      "outputs": []
    },
    {
      "cell_type": "code",
      "metadata": {
        "id": "qjn6xM-_0lbZ"
      },
      "source": [
        "target_layers = [\"layer1\",\"layer2\",\"layer3\"]\n",
        "model_main.get_gradcam_details(wrong_images, net, target_layers,device)"
      ],
      "execution_count": null,
      "outputs": []
    },
    {
      "cell_type": "markdown",
      "metadata": {
        "id": "ggjiWPwX0siT"
      },
      "source": [
        "Final Model - Further MIN LR of Max/3"
      ]
    },
    {
      "cell_type": "code",
      "metadata": {
        "id": "UudiFLwc0lVN"
      },
      "source": [
        "start_lr = 0.015\n",
        "# max_lr = 0.0172685370741483 \n",
        "max_lr = 0.018272685370741483\n",
        "start_lr = max_lr/3"
      ],
      "execution_count": null,
      "outputs": []
    },
    {
      "cell_type": "code",
      "metadata": {
        "id": "49Ub5N6h0lR-"
      },
      "source": [
        "(wrong_images, net, target_layers,device) = model_main.run_experiments_custom_resnet_fc(start_lr = start_lr,\n",
        "                                                                                        lrmax = max_lr,\n",
        "                                                                                        max_holes = 3,\n",
        "                                                                                        IsSGD= False,\n",
        "                                                                                        ShowGradcam = False)"
      ],
      "execution_count": null,
      "outputs": []
    },
    {
      "cell_type": "code",
      "metadata": {
        "id": "W0WsiGI200lI"
      },
      "source": [
        "target_layers = [\"layer1\",\"layer2\",\"layer3\"]\n",
        "model_main.get_gradcam_details(wrong_images, net, target_layers,device)"
      ],
      "execution_count": null,
      "outputs": []
    }
  ]
}